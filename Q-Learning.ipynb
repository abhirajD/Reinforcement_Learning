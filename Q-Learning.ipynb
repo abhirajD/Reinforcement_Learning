{
 "cells": [
  {
   "cell_type": "markdown",
   "metadata": {},
   "source": [
    "# Q-Learning\n",
    "\n",
    "Q-Learning algorithms are Reinforment learning algorithms which are a little different than the popular policy-based algorithms.\n",
    "\n",
    "In this noteboook I wil be discussion the thoery along with a simple q-learning problem.\n",
    "\n",
    "#### TO-DO\n",
    "- Start with basic theory and discuss founding papers\n",
    "- Make an end to ed application.\n",
    "- Make a web interface to display Q-learning algorithm\n",
    "- "
   ]
  },
  {
   "cell_type": "code",
   "execution_count": null,
   "metadata": {},
   "outputs": [],
   "source": []
  }
 ],
 "metadata": {
  "kernelspec": {
   "display_name": "Python 3",
   "language": "python",
   "name": "python3"
  },
  "language_info": {
   "codemirror_mode": {
    "name": "ipython",
    "version": 3
   },
   "file_extension": ".py",
   "mimetype": "text/x-python",
   "name": "python",
   "nbconvert_exporter": "python",
   "pygments_lexer": "ipython3",
   "version": "3.6.4"
  }
 },
 "nbformat": 4,
 "nbformat_minor": 2
}
